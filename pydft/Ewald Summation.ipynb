{
 "cells": [
  {
   "cell_type": "code",
   "execution_count": 10,
   "metadata": {
    "collapsed": true
   },
   "outputs": [],
   "source": [
    "from math import erf, erfc, sqrt\n",
    "import numpy as np"
   ]
  },
  {
   "cell_type": "code",
   "execution_count": 11,
   "metadata": {
    "collapsed": true
   },
   "outputs": [],
   "source": [
    "def phi_loc(zs,rs,R,a,n):\n",
    "    \n",
    "    from itertools import product\n",
    "    result = 0\n",
    "    neighbs = np.array([np.array(i) for i in list(product(range(-n,n+1),repeat=3))])\n",
    "    neighbs = np.dot(R,neighbs.T).T\n",
    "    count = 0\n",
    "    for n_L in neighbs:\n",
    "        for a_i in range(len(zs)):\n",
    "            for a_j in range(len(zs)):\n",
    "                if np.all(n_L == 0) and (a_i != a_j):\n",
    "                    count += 1\n",
    "                    rijn = np.linalg.norm(rs[a_i]-rs[a_j])\n",
    "                    result += zs[a_i]*zs[a_j]*erfc(a *rijn)/rijn\n",
    "                elif np.any(n_L != 0): \n",
    "                    count += 1\n",
    "                    rijn = np.linalg.norm(rs[a_i]-rs[a_j]+n_L)\n",
    "                    result += zs[a_i]*zs[a_j]*erfc(a *rijn)/rijn\n",
    "                    \n",
    "    return result/2.      "
   ]
  },
  {
   "cell_type": "code",
   "execution_count": 16,
   "metadata": {
    "collapsed": false
   },
   "outputs": [
    {
     "data": {
      "text/plain": [
       "0.053051814678672995"
      ]
     },
     "execution_count": 16,
     "metadata": {},
     "output_type": "execute_result"
    }
   ],
   "source": [
    "phi_loc([1,1],np.array([[0.0,0.0,0.0],[1.75,0.0,0.0]]),[[6,0,0],[0,6,0],[0,0,6]],0.67910317287637567,4)"
   ]
  },
  {
   "cell_type": "code",
   "execution_count": 29,
   "metadata": {
    "collapsed": false
   },
   "outputs": [],
   "source": [
    "def phi_dist(zs,rs,R,a,m):\n",
    "    from math import pi\n",
    "    from cmath import exp\n",
    "    from itertools import product\n",
    "    \n",
    "    results = 0\n",
    "    V = np.dot(R[0],np.cross(R[1],R[2]))\n",
    "    k1 = 2*np.pi*np.cross(R[1],R[2])/V\n",
    "    k2 = 2*np.pi*np.cross(R[2],R[0])/V\n",
    "    k3 = 2*np.pi*np.cross(R[0],R[1])/V\n",
    "    K = np.array([k1,k2,k3])\n",
    "    ms = [np.dot(K,np.array(i).T) for i in list(product(list(range(-int(m/2 +1),0)+list(range(int(m/2)))),repeat=3))]\n",
    "    print(len(ms))\n",
    "    for m in ms:\n",
    "        if np.any(m != 0):\n",
    "            for a_i in range(len(zs)):\n",
    "                for a_j in range(len(zs)):\n",
    "                    results += zs[a_i]*zs[a_j]* exp(-(pi*pi * np.dot(m,m)/(a*a)) + 2*pi*1j* np.dot(m,rs[a_i]-rs[a_j]))/np.dot(m,m)\n",
    "    \n",
    "    return results/(2*pi*V)"
   ]
  },
  {
   "cell_type": "code",
   "execution_count": 30,
   "metadata": {
    "collapsed": false
   },
   "outputs": [
    {
     "name": "stdout",
     "output_type": "stream",
     "text": [
      "6859\n"
     ]
    },
    {
     "data": {
      "text/plain": [
       "(4.4122179400977955e-18+0j)"
      ]
     },
     "execution_count": 30,
     "metadata": {},
     "output_type": "execute_result"
    }
   ],
   "source": [
    "phi_dist([1,1],np.array([[0.0,0.0,0.0],[1.75,0.0,0.0]]),[[6,0,0],[0,6,0],[0,0,6]],0.55024769904855042,19)"
   ]
  },
  {
   "cell_type": "code",
   "execution_count": 13,
   "metadata": {
    "collapsed": true
   },
   "outputs": [],
   "source": [
    "def u_rem(zs,a):\n",
    "    from math import pi\n",
    "    \n",
    "    result = 0\n",
    "    for z in zs:\n",
    "        result += z*z\n",
    "        \n",
    "    return -a*result/(2*np.sqrt(np.pi))"
   ]
  },
  {
   "cell_type": "code",
   "execution_count": 1,
   "metadata": {
    "collapsed": false
   },
   "outputs": [],
   "source": [
    "import ewald\n",
    "import numpy as np"
   ]
  },
  {
   "cell_type": "code",
   "execution_count": 5,
   "metadata": {
    "collapsed": false
   },
   "outputs": [
    {
     "data": {
      "text/plain": [
       "(0.024100984308366741+0j)"
      ]
     },
     "execution_count": 5,
     "metadata": {},
     "output_type": "execute_result"
    }
   ],
   "source": [
    "ewald.ewald_energy_exact([1,1],np.array([[0,0,0],[1.75,0,0]]),np.array([[6,0,0],[0,6,0],[0,0,6]]))"
   ]
  },
  {
   "cell_type": "code",
   "execution_count": null,
   "metadata": {
    "collapsed": true
   },
   "outputs": [],
   "source": []
  }
 ],
 "metadata": {
  "kernelspec": {
   "display_name": "Python 2",
   "language": "python",
   "name": "python2"
  },
  "language_info": {
   "codemirror_mode": {
    "name": "ipython",
    "version": 2
   },
   "file_extension": ".py",
   "mimetype": "text/x-python",
   "name": "python",
   "nbconvert_exporter": "python",
   "pygments_lexer": "ipython2",
   "version": "2.7.9"
  }
 },
 "nbformat": 4,
 "nbformat_minor": 1
}
